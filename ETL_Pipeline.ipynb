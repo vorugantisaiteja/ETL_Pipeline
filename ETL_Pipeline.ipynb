{
 "cells": [
  {
   "cell_type": "code",
   "execution_count": 2,
   "id": "bf387cdc",
   "metadata": {},
   "outputs": [],
   "source": [
    "from sqlalchemy import create_engine\n",
    "import pyodbc\n",
    "import pandas as pd\n",
    "import os\n"
   ]
  },
  {
   "cell_type": "code",
   "execution_count": 3,
   "id": "d7abd32f",
   "metadata": {},
   "outputs": [],
   "source": [
    "pwd=os.environ['PGPASS']\n",
    "uid=os.environ['PGUID']\n",
    "\n",
    "driver=\"{SQL Server Native Client 11.0}\"\n",
    "server='LAPTOP-K6D5BFPK'\n",
    "database=\"AdventureWorks2019;\"\n",
    "\n",
    "def extract():\n",
    "    try:\n",
    "        src_conn=pyodbc.connect('DRIVER=' + driver + ';SERVER=' + server + '\\SQLEXPRESS' + ';DATABASE=' + database + ';UID=' + uid + ';PWD=' + pwd )\n",
    "        src_cursor=src_conn.cursor()\n",
    "        print('hello')\n",
    "#         src_cursor.execute(\"\"\" select t.name as table_name from sys.tables t where t.name in ('Product','ProductSubcategory' ) \"\"\")\n",
    "#         src_tables=src_cursor.fetchall()\n",
    "        query = \"\"\" select  t.name as table_name\n",
    "        from sys.tables t where t.name in ('Product','ProductSubcategory') \"\"\"\n",
    "        src_tables = pd.read_sql_query(query, src_conn).to_dict()['table_name']\n",
    "        print(src_tables)\n",
    "        \n",
    "        print('bolo')\n",
    "#         for tbl in src_tables:\n",
    "#             print('hiiiiiii')\n",
    "#             df=pd.read_sql_query(f'select * FROM {tbl[0]}', src_conn)\n",
    "#             load(df, tbl[0])\n",
    "        for id in src_tables:\n",
    "            table_name = src_tables[id]\n",
    "            df = pd.read_sql_query(f'select * FROM {table_name}', src_conn)\n",
    "            load(df, table_name)\n",
    "\n",
    "    except Exception as e:\n",
    "        print(\"Data extract error: \"+str(e))\n",
    "    finally:\n",
    "        src_conn.close()\n",
    "\n",
    "def load(df,tbl):\n",
    "    print('hey')\n",
    "    try:\n",
    "        rows_imported=0\n",
    "        engine=create_engine(f'postgresql://{uid}:{pwd}@{server}:5433/AdventureWorks')\n",
    "        printf(f'importing rows {rows_imported} to {rows_imported + len(df)}... for table {tbl}')\n",
    "\n",
    "        df.to_sql(f'stg_{tbl}',engine, if_exists='replace', index=False)\n",
    "        rows_imported+=len(df)\n",
    "        print(\"Data imported successful\")\n",
    "    except Exception as e:\n",
    "        print(\"Data load error: \"+str(e))\n"
   ]
  },
  {
   "cell_type": "code",
   "execution_count": null,
   "id": "ff3cce57",
   "metadata": {},
   "outputs": [],
   "source": [
    "extract()"
   ]
  }
 ],
 "metadata": {
  "kernelspec": {
   "display_name": "Python 3",
   "language": "python",
   "name": "python3"
  },
  "language_info": {
   "codemirror_mode": {
    "name": "ipython",
    "version": 3
   },
   "file_extension": ".py",
   "mimetype": "text/x-python",
   "name": "python",
   "nbconvert_exporter": "python",
   "pygments_lexer": "ipython3",
   "version": "3.8.8"
  }
 },
 "nbformat": 4,
 "nbformat_minor": 5
}
